{
 "cells": [
  {
   "cell_type": "code",
   "execution_count": 5,
   "id": "f819713d",
   "metadata": {},
   "outputs": [
    {
     "name": "stdout",
     "output_type": "stream",
     "text": [
      "100\n"
     ]
    }
   ],
   "source": [
    "class power():\n",
    "    def pow(self,x,n):\n",
    "        ans=1\n",
    "        for i in range(n):\n",
    "            ans=x*ans\n",
    "        print(ans)\n",
    "\n",
    "tpo=power()\n",
    "tpo.pow(10,2)"
   ]
  }
 ],
 "metadata": {
  "kernelspec": {
   "display_name": "Python 3 (ipykernel)",
   "language": "python",
   "name": "python3"
  },
  "language_info": {
   "codemirror_mode": {
    "name": "ipython",
    "version": 3
   },
   "file_extension": ".py",
   "mimetype": "text/x-python",
   "name": "python",
   "nbconvert_exporter": "python",
   "pygments_lexer": "ipython3",
   "version": "3.10.2"
  }
 },
 "nbformat": 4,
 "nbformat_minor": 5
}

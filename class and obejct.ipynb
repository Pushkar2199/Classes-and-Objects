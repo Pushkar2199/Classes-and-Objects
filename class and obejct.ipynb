{
 "cells": [
  {
   "cell_type": "markdown",
   "id": "bffbeb50",
   "metadata": {},
   "source": [
    "# Square of number and return their sum"
   ]
  },
  {
   "cell_type": "code",
   "execution_count": 5,
   "id": "d5b6df21",
   "metadata": {},
   "outputs": [
    {
     "data": {
      "text/plain": [
       "35"
      ]
     },
     "execution_count": 5,
     "metadata": {},
     "output_type": "execute_result"
    }
   ],
   "source": [
    "class Points :\n",
    "    def __init__(self,x,y,z) :\n",
    "        self.x = x\n",
    "        self.y = y\n",
    "        self.z = z\n",
    "    def sqSum(self) :\n",
    "        return self.x**2 + self.y**2 + self.z**2\n",
    "\n",
    "a = Points(1,3,5)\n",
    "a.sqSum()\n"
   ]
  },
  {
   "cell_type": "markdown",
   "id": "86d0bb1d",
   "metadata": {},
   "source": [
    "# Calculate the students performance"
   ]
  },
  {
   "cell_type": "code",
   "execution_count": 30,
   "id": "66b10838",
   "metadata": {},
   "outputs": [
    {
     "name": "stdout",
     "output_type": "stream",
     "text": [
      "total marks of student is : 210\n",
      "percentage of student is : 70\n"
     ]
    }
   ],
   "source": [
    "class Student :\n",
    "    \n",
    "    totalMarks = 300\n",
    "    \n",
    "    def __init__(self) :\n",
    "        self.name = \"Tejashri\"\n",
    "        self.phy = 80\n",
    "        self.chem = 90\n",
    "        self.bio = 40\n",
    "        \n",
    "        \n",
    "    def totalObtained(self) :\n",
    "        return self.phy + self.chem + self.bio\n",
    "    \n",
    "    def percentage(self) :\n",
    "        return ((self.phy + self.chem + self.bio)*100)// Student.totalMarks\n",
    "        \n",
    "        \n",
    "student = Student()\n",
    "\n",
    "student.totalObtained()\n",
    "print(\"total marks of student is :\",student.totalObtained())\n",
    "\n",
    "\n",
    "student.percentage()\n",
    "print(\"percentage of student is :\",student.percentage())\n",
    "\n",
    "\n",
    "       "
   ]
  },
  {
   "cell_type": "markdown",
   "id": "05eb14bb",
   "metadata": {},
   "source": [
    "# Implement a calculator"
   ]
  },
  {
   "cell_type": "code",
   "execution_count": 1,
   "id": "a7bf7449",
   "metadata": {},
   "outputs": [
    {
     "name": "stdout",
     "output_type": "stream",
     "text": [
      "104\n",
      "84\n",
      "940\n",
      "9.4\n"
     ]
    }
   ],
   "source": [
    "class Calculator :\n",
    "    \n",
    "    def __init__(self,num1,num2) :\n",
    "        self.num1 = num1\n",
    "        self.num2 = num2\n",
    "        \n",
    "    def add(self) :   \n",
    "        return self.num1+ self.num2 \n",
    "    \n",
    "    def subtract(self) :\n",
    "        if self.num1 - self.num2 < 0 :\n",
    "            return (self.num1 - self.num2)*(-1) \n",
    "        else :\n",
    "            return (self.num1 - self.num2)\n",
    "            \n",
    "    \n",
    "    def multiply(self) :\n",
    "        return self.num1 * self.num2\n",
    "    \n",
    "    def divide(self) :\n",
    "        return self.num2/self.num1\n",
    "        \n",
    "obj = Calculator(10,94)\n",
    "obj.add()\n",
    "obj.subtract()\n",
    "obj.multiply()\n",
    "obj.divide()\n",
    "\n",
    "print(obj.add())\n",
    "print(obj.subtract())\n",
    "print(obj.multiply())\n",
    "print(obj.divide())"
   ]
  },
  {
   "cell_type": "code",
   "execution_count": null,
   "id": "39a3f2dc",
   "metadata": {},
   "outputs": [],
   "source": []
  }
 ],
 "metadata": {
  "kernelspec": {
   "display_name": "Python 3 (ipykernel)",
   "language": "python",
   "name": "python3"
  },
  "language_info": {
   "codemirror_mode": {
    "name": "ipython",
    "version": 3
   },
   "file_extension": ".py",
   "mimetype": "text/x-python",
   "name": "python",
   "nbconvert_exporter": "python",
   "pygments_lexer": "ipython3",
   "version": "3.10.2"
  }
 },
 "nbformat": 4,
 "nbformat_minor": 5
}
